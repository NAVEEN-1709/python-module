{
 "cells": [
  {
   "cell_type": "code",
   "execution_count": 27,
   "id": "128229e2-1951-48b4-b4ba-34fbcc6f561a",
   "metadata": {},
   "outputs": [
    {
     "name": "stdout",
     "output_type": "stream",
     "text": [
      "Reminder set for 'Take a break' at 15:00.\n",
      "25°C to Fahrenheit: 77.0°F\n",
      "77°F to Celsius: 25.0°C\n",
      "Task added: Buy groceries\n",
      "Task added: Call mom\n",
      "Tasks:\n",
      "1. Buy groceries\n",
      "2. Call mom\n",
      "To-do list cleared!\n"
     ]
    }
   ],
   "source": [
    "import daily_helpers as dh\n",
    "\n",
    "# Example 1: Set a reminder\n",
    "print(dh.set_reminder(\"Take a break\", \"15:00\"))\n",
    "\n",
    "# Example 2: Convert temperatures\n",
    "print(f\"25°C to Fahrenheit: {dh.celsius_to_fahrenheit(25)}°F\")\n",
    "print(f\"77°F to Celsius: {dh.fahrenheit_to_celsius(77)}°C\")\n",
    "\n",
    "# Example 3: Use the to-do list\n",
    "print(dh.add_task(\"Buy groceries\"))\n",
    "print(dh.add_task(\"Call mom\"))\n",
    "print(\"Tasks:\")\n",
    "print(dh.view_tasks())\n",
    "print(dh.clear_tasks())\n"
   ]
  },
  {
   "cell_type": "code",
   "execution_count": null,
   "id": "730fef2e-314f-458b-be45-d18ef6a78bf6",
   "metadata": {},
   "outputs": [],
   "source": []
  }
 ],
 "metadata": {
  "kernelspec": {
   "display_name": "Python 3 (ipykernel)",
   "language": "python",
   "name": "python3"
  },
  "language_info": {
   "codemirror_mode": {
    "name": "ipython",
    "version": 3
   },
   "file_extension": ".py",
   "mimetype": "text/x-python",
   "name": "python",
   "nbconvert_exporter": "python",
   "pygments_lexer": "ipython3",
   "version": "3.12.4"
  }
 },
 "nbformat": 4,
 "nbformat_minor": 5
}
